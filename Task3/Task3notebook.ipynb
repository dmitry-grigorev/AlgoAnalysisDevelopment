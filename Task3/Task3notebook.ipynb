{
 "cells": [
  {
   "cell_type": "code",
   "execution_count": 1,
   "metadata": {
    "collapsed": true,
    "pycharm": {
     "name": "#%%\n"
    }
   },
   "outputs": [
    {
     "data": {
      "text/plain": "<Figure size 640x480 with 0 Axes>"
     },
     "execution_count": 1,
     "metadata": {},
     "output_type": "execute_result"
    },
    {
     "data": {
      "text/plain": "<Figure size 640x480 with 0 Axes>"
     },
     "metadata": {},
     "output_type": "display_data"
    }
   ],
   "source": [
    "import numpy as np\n",
    "import matplotlib.pyplot as plt\n",
    "import matplotlib.style\n",
    "import matplotlib as mpl\n",
    "from task3module.task3module import *\n",
    "mpl.style.use('classic')\n",
    "plt.figure(figsize=(8, 6), dpi = 80)"
   ]
  },
  {
   "cell_type": "code",
   "execution_count": 2,
   "outputs": [],
   "source": [
    "%matplotlib inline"
   ],
   "metadata": {
    "collapsed": false,
    "pycharm": {
     "name": "#%%\n"
    }
   }
  },
  {
   "cell_type": "code",
   "execution_count": 3,
   "outputs": [],
   "source": [
    "np.random.seed(43)"
   ],
   "metadata": {
    "collapsed": false,
    "pycharm": {
     "name": "#%%\n"
    }
   }
  },
  {
   "cell_type": "code",
   "execution_count": 4,
   "outputs": [],
   "source": [
    "N = 101\n",
    "x = np.linspace(0, 1, N)\n",
    "alpha = 0.785\n",
    "beta = 0.31\n",
    "y = alpha*x + beta + np.random.normal(size = N)"
   ],
   "metadata": {
    "collapsed": false,
    "pycharm": {
     "name": "#%%\n"
    }
   }
  },
  {
   "cell_type": "markdown",
   "source": [
    "Target function is $$ D(a,b) = \\sum_{k=0}^{100}(F(a,b,x_k)-y_k)^2 $$"
   ],
   "metadata": {
    "collapsed": false,
    "pycharm": {
     "name": "#%% md\n"
    }
   }
  },
  {
   "cell_type": "markdown",
   "source": [
    "Approximant is $$ F(a, b, x) = ax+b$$\n",
    "$$ \\frac{\\partial D}{\\partial a} = 2 \\sum_{k=0}^{100}x_k(ax_k+b-y_k),\\ \\frac{\\partial D}{\\partial b} = 2\\sum_{k=0}^{100}(ax_k+b-y_k) $$\n",
    "$$ \\frac{\\partial^2 D}{\\partial a^2} = 2\\sum_{k=0}^{100}x^2_k,\\ \\frac{\\partial^2 D}{\\partial a \\partial b} = 2\\sum_{k=0}^{100}x_k y_k,\\ \\frac{\\partial^2 D}{\\partial b^2} = 202 $$"
   ],
   "metadata": {
    "collapsed": false,
    "pycharm": {
     "name": "#%% md\n"
    }
   }
  },
  {
   "cell_type": "code",
   "execution_count": 5,
   "outputs": [],
   "source": [
    "def cost_function(a, b):\n",
    "    y_pred = a*x+b\n",
    "    return squares(y_pred, y)\n",
    "\n",
    "def cost_function_v(theta):\n",
    "    return cost_function(theta[0], theta[1])\n",
    "\n",
    "def cost_function_grad(theta):\n",
    "    df1 = 2*np.sum(x*(theta[0]*x+theta[1]-y))\n",
    "    df2 = 2*np.sum(theta[0]*x+theta[1]-y)\n",
    "    return np.array([df1, df2], dtype=float)\n",
    "\n",
    "def cost_function_hess(theta):\n",
    "    df11 = 2*np.sum(np.square(x))\n",
    "    df12 = 2*np.sum(x)\n",
    "    df22 = 2*x.shape[0]\n",
    "    return np.array([[df11, df12], [df12, df22]], dtype=float)\n"
   ],
   "metadata": {
    "collapsed": false,
    "pycharm": {
     "name": "#%%\n"
    }
   }
  },
  {
   "cell_type": "code",
   "execution_count": 6,
   "outputs": [],
   "source": [
    "xlist = np.linspace(0, 1.0, 301)\n",
    "ylist = np.linspace(0, 1.0, 301)\n",
    "X, Y = np.meshgrid(xlist, ylist)"
   ],
   "metadata": {
    "collapsed": false,
    "pycharm": {
     "name": "#%%\n"
    }
   }
  },
  {
   "cell_type": "markdown",
   "source": [
    "Contour plot for $D(a, b)$"
   ],
   "metadata": {
    "collapsed": false,
    "pycharm": {
     "name": "#%% md\n"
    }
   }
  },
  {
   "cell_type": "code",
   "execution_count": 7,
   "outputs": [
    {
     "data": {
      "text/plain": "<matplotlib.contour.QuadContourSet at 0x143e8266020>"
     },
     "execution_count": 7,
     "metadata": {},
     "output_type": "execute_result"
    },
    {
     "data": {
      "text/plain": "<Figure size 640x480 with 1 Axes>",
      "image/png": "[encoded data removed]"
     },
     "metadata": {},
     "output_type": "display_data"
    }
   ],
   "source": [
    "Z = np.array([[cost_function(x, y) for y in ylist] for x in xlist])\n",
    "plt.contourf(X, Y, Z)"
   ],
   "metadata": {
    "collapsed": false,
    "pycharm": {
     "name": "#%%\n"
    }
   }
  },
  {
   "cell_type": "code",
   "execution_count": 8,
   "outputs": [],
   "source": [
    "limits = np.array([[0, 1], [0, 1]], dtype=float)"
   ],
   "metadata": {
    "collapsed": false,
    "pycharm": {
     "name": "#%%\n"
    }
   }
  },
  {
   "cell_type": "code",
   "execution_count": 9,
   "outputs": [
    {
     "data": {
      "text/plain": "(array([0.68456203, 0.42617877]),\n 92.14858746546793,\n {'iterations': 2,\n  'funccalcs': 0,\n  'gradcalcs': 2,\n  'hesscalcs': 2,\n  'matrixinversions': 2},\n 0.15357504216757092)"
     },
     "execution_count": 9,
     "metadata": {},
     "output_type": "execute_result"
    }
   ],
   "source": [
    "newans = newtons(cost_function_v, limits, np.array([0.1, 0.1]), funcgrad=cost_function_grad,\n",
    "        funchess=cost_function_hess, optpoint = np.array([alpha, beta]))\n",
    "newans"
   ],
   "metadata": {
    "collapsed": false,
    "pycharm": {
     "name": "#%%\n"
    }
   }
  },
  {
   "cell_type": "code",
   "execution_count": 10,
   "outputs": [
    {
     "data": {
      "text/plain": "(array([0.68455491, 0.42618259]),\n 92.14858746590969,\n {'iterations': 4,\n  'funccalcs': 0,\n  'gradcalcs': 4,\n  'hesscalcs': 4,\n  'matrixinversions': 4},\n 0.15358258467357028)"
     },
     "execution_count": 10,
     "metadata": {},
     "output_type": "execute_result"
    }
   ],
   "source": [
    "lmans1 = levenmarq(cost_function_v, limits, np.array([0.1, 0.1]), funcgrad=cost_function_grad,\n",
    "          funchess=cost_function_hess, regulpar=1., optpoint = np.array([alpha, beta]))\n",
    "lmans1"
   ],
   "metadata": {
    "collapsed": false,
    "pycharm": {
     "name": "#%%\n"
    }
   }
  },
  {
   "cell_type": "code",
   "execution_count": 11,
   "outputs": [
    {
     "data": {
      "text/plain": "(array([0.68456203, 0.42617877]),\n 92.14858746546791,\n {'iterations': 2,\n  'funccalcs': 46,\n  'gradcalcs': 2,\n  'hesscalcs': 2,\n  'matrixinversions': 42},\n 0.1535750423681571)"
     },
     "execution_count": 11,
     "metadata": {},
     "output_type": "execute_result"
    }
   ],
   "source": [
    "lmans2 = levenmarq(cost_function_v, limits, np.array([0.1, 0.1]), funcgrad=cost_function_grad,\n",
    "          funchess=cost_function_hess, regulpar=(0., 10.), optpoint = np.array([alpha, beta]))\n",
    "lmans2"
   ],
   "metadata": {
    "collapsed": false,
    "pycharm": {
     "name": "#%%\n"
    }
   }
  },
  {
   "cell_type": "code",
   "execution_count": 12,
   "outputs": [
    {
     "name": "stderr",
     "output_type": "stream",
     "text": [
      "C:\\Users\\Acer\\AppData\\Local\\Temp\\ipykernel_11696\\231367179.py:27: UserWarning: FixedFormatter should only be used together with FixedLocator\n",
      "  axes.set_xticklabels(np.linspace(0.9999, 1., 11), rotation = -45)\n"
     ]
    },
    {
     "data": {
      "text/plain": "<Figure size 640x480 with 2 Axes>",
      "image/png": "[encoded data removed]"
     },
     "metadata": {},
     "output_type": "display_data"
    }
   ],
   "source": [
    "fig = plt.figure(facecolor=\"white\")\n",
    "ax = fig.add_subplot(1, 1, 1)\n",
    "plt.plot(x, y, \"bo\")\n",
    "plt.axline((0, beta), slope = alpha, color = \"blue\", linewidth = 2, label= \"Data generator\")\n",
    "plt.axline((0, newans[0][1]), slope = newans[0][0], color = \"purple\", linewidth = 2, label= \"Newton\")\n",
    "plt.axline((0, lmans1[0][1]), slope = lmans1[0][0], color = \"lime\", linewidth = 2, label= \"Levenberg-Marquardt\")\n",
    "#plt.axline((0, nmans.x[1]), slope = nmans.x[0], color = \"red\", linewidth = 2, label= \"Nelder-Mead\")\n",
    "plt.xlabel(\"x\")\n",
    "plt.ylabel(\"y\")\n",
    "\n",
    "plt.legend(bbox_to_anchor=(1.05, 1), loc='upper left')\n",
    "#plt.xticks(rotation = 45)\n",
    "ax.grid(True)\n",
    "\n",
    "f = lambda x: newans[0][1] + newans[0][0]*x\n",
    "\n",
    "axes = plt.axes([.90, .2, .45, .45])\n",
    "axes.plot(x, y, \"bo\")\n",
    "axes.set_xlim((0.9999, 1.))\n",
    "axes.set_ylim((f(0.9999), f(1.)))\n",
    "axes.yaxis.tick_right()\n",
    "axes.axline((0, beta), slope = alpha, color = \"blue\", linewidth = 2, label= \"Data generator\")\n",
    "axes.axline((0, newans[0][1]), slope = newans[0][0], color = \"purple\", linewidth = 2, label= \"Exhaustive search\")\n",
    "axes.axline((0, lmans1[0][1]), slope = lmans1[0][0], color = \"lime\", linewidth = 2, label= \"Gauss\")\n",
    "#axes.axline((0, nmans.x[1]), slope = nmans.x[0], color = \"red\", linewidth = 2, label= \"Nelder-Mead\")\n",
    "axes.set_xlabel(\"Zoomed sector\")\n",
    "axes.set_xticklabels(np.linspace(0.9999, 1., 11), rotation = -45)\n",
    "axes.xaxis.set_major_formatter(plt.FormatStrFormatter('%g'))"
   ],
   "metadata": {
    "collapsed": false,
    "pycharm": {
     "name": "#%%\n"
    }
   }
  },
  {
   "cell_type": "markdown",
   "source": [
    "Approximant is $$ F(a, b, x) = \\frac{a}{1+bx}$$\n",
    "$$ \\frac{\\partial D}{\\partial a} = 2 \\sum_{k=0}^{100}\\frac{1}{1+bx_k}\\left(\\frac{a}{1+bx_k}-y_k\\right),\\ \\frac{\\partial D}{\\partial b} = -2\\sum_{k=0}^{100} \\frac{ax_k}{(1+bx_k)^2}\\left(\\frac{a}{1+bx_k}-y_k\\right) $$\n",
    "$$ \\frac{\\partial^2 D}{\\partial a^2} = 2\\sum_{k=0}^{100} \\frac{1}{(1+bx_k)^2},$$ $$ \\frac{\\partial^2 D}{\\partial a \\partial b} = 2\\sum_{k=0}^{100} \\frac{1}{(1+bx_k)^2} \\left( \\frac{-2ax_k}{1+bx_k} + x_ky_k \\right),$$ $$ \\frac{\\partial^2 D}{\\partial b^2} = 2\\sum_{k=0}^{100} \\frac{a^2}{(1+bx_k)^3} \\left( \\frac{3x^2_k}{1+bx_k} - 2x_ky_k \\right) $$"
   ],
   "metadata": {
    "collapsed": false,
    "pycharm": {
     "name": "#%% md\n"
    }
   }
  },
  {
   "cell_type": "code",
   "execution_count": 13,
   "outputs": [],
   "source": [
    "def cost_function1(a, b):\n",
    "    y_pred = a/(1+b*x)\n",
    "    return squares(y_pred, y)\n",
    "\n",
    "def cost_function1_v(theta):\n",
    "    return cost_function(theta[0], theta[1])\n",
    "\n",
    "def cost_function1_grad(theta):\n",
    "    df1 = 2*np.sum((theta[0]/(1+theta[1]*x)-y)/(1+theta[1]*x))\n",
    "    df2 = -2*np.sum((theta[0]/(1+theta[1]*x)-y)*theta[0]*x/(1+theta[1]*x)**2)\n",
    "    return np.array([df1, df2], dtype=float)\n",
    "\n",
    "def cost_function1_hess(theta):\n",
    "    df11 = 2*np.sum(1/(1+theta[1]*x)**2)\n",
    "    df12 = 2*np.sum(1/(1+theta[1]*x)**2 * (x*y - 2*theta[0]*x/(1+theta[1]*x)))\n",
    "    df22 = 2*np.sum(theta[0]**2/(1+theta[1]*x)**3 * (-2*x*y + 3*x*x/(1+theta[1]*x)))\n",
    "    return np.array([[df11, df12], [df12, df22]], dtype=float)"
   ],
   "metadata": {
    "collapsed": false,
    "pycharm": {
     "name": "#%%\n"
    }
   }
  },
  {
   "cell_type": "markdown",
   "source": [
    "Contour plot for $D(a, b)$"
   ],
   "metadata": {
    "collapsed": false,
    "pycharm": {
     "name": "#%% md\n"
    }
   }
  },
  {
   "cell_type": "code",
   "execution_count": 14,
   "outputs": [
    {
     "data": {
      "text/plain": "<matplotlib.contour.QuadContourSet at 0x143ea9000d0>"
     },
     "execution_count": 14,
     "metadata": {},
     "output_type": "execute_result"
    },
    {
     "data": {
      "text/plain": "<Figure size 640x480 with 1 Axes>",
      "image/png": "[encoded data removed]"
     },
     "metadata": {},
     "output_type": "display_data"
    }
   ],
   "source": [
    "Z = np.array([[cost_function1(x, y) for y in ylist] for x in xlist])\n",
    "plt.contourf(X, Y, Z)"
   ],
   "metadata": {
    "collapsed": false,
    "pycharm": {
     "name": "#%%\n"
    }
   }
  },
  {
   "cell_type": "code",
   "execution_count": 18,
   "outputs": [
    {
     "data": {
      "text/plain": "(array([0.99932219, 0.97358783]),\n 143.16863862880157,\n {'iterations': 1,\n  'funccalcs': 0,\n  'gradcalcs': 1,\n  'hesscalcs': 1,\n  'matrixinversions': 1},\n 0.6973398111943818)"
     },
     "execution_count": 18,
     "metadata": {},
     "output_type": "execute_result"
    }
   ],
   "source": [
    "newtons(cost_function1_v, limits, np.array([0.9, 0.6]), funcgrad=cost_function1_grad,\n",
    "        funchess=cost_function1_hess, optpoint = np.array([alpha, beta]))"
   ],
   "metadata": {
    "collapsed": false,
    "pycharm": {
     "name": "#%%\n"
    }
   }
  },
  {
   "cell_type": "code",
   "execution_count": 19,
   "outputs": [
    {
     "data": {
      "text/plain": "(array([0.99946623, 0.98237052]),\n 144.43795741728826,\n {'iterations': 1,\n  'funccalcs': 0,\n  'gradcalcs': 1,\n  'hesscalcs': 1,\n  'matrixinversions': 1},\n 0.705746325342029)"
     },
     "execution_count": 19,
     "metadata": {},
     "output_type": "execute_result"
    }
   ],
   "source": [
    "levenmarq(cost_function1_v, limits, np.array([0.9, 0.6]), funcgrad=cost_function1_grad,\n",
    "          funchess=cost_function1_hess, regulpar=1., optpoint = np.array([alpha, beta]))"
   ],
   "metadata": {
    "collapsed": false,
    "pycharm": {
     "name": "#%%\n"
    }
   }
  },
  {
   "cell_type": "code",
   "execution_count": 16,
   "outputs": [],
   "source": [],
   "metadata": {
    "collapsed": false,
    "pycharm": {
     "name": "#%%\n"
    }
   }
  },
  {
   "cell_type": "code",
   "execution_count": 16,
   "outputs": [],
   "source": [],
   "metadata": {
    "collapsed": false,
    "pycharm": {
     "name": "#%%\n"
    }
   }
  },
  {
   "cell_type": "code",
   "execution_count": 16,
   "outputs": [],
   "source": [],
   "metadata": {
    "collapsed": false,
    "pycharm": {
     "name": "#%%\n"
    }
   }
  },
  {
   "cell_type": "code",
   "execution_count": 16,
   "outputs": [],
   "source": [],
   "metadata": {
    "collapsed": false,
    "pycharm": {
     "name": "#%%\n"
    }
   }
  },
  {
   "cell_type": "code",
   "execution_count": 16,
   "outputs": [],
   "source": [],
   "metadata": {
    "collapsed": false,
    "pycharm": {
     "name": "#%%\n"
    }
   }
  },
  {
   "cell_type": "code",
   "execution_count": 16,
   "outputs": [],
   "source": [],
   "metadata": {
    "collapsed": false,
    "pycharm": {
     "name": "#%%\n"
    }
   }
  }
 ],
 "metadata": {
  "kernelspec": {
   "display_name": "Python 3",
   "language": "python",
   "name": "python3"
  },
  "language_info": {
   "codemirror_mode": {
    "name": "ipython",
    "version": 2
   },
   "file_extension": ".py",
   "mimetype": "text/x-python",
   "name": "python",
   "nbconvert_exporter": "python",
   "pygments_lexer": "ipython2",
   "version": "2.7.6"
  }
 },
 "nbformat": 4,
 "nbformat_minor": 0
}