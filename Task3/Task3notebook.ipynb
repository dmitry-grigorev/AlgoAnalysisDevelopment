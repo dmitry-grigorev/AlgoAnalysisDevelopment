{
 "cells": [
  {
   "cell_type": "code",
   "execution_count": 1,
   "metadata": {
    "collapsed": true,
    "pycharm": {
     "name": "#%%\n"
    }
   },
   "outputs": [
    {
     "data": {
      "text/plain": "<Figure size 640x480 with 0 Axes>"
     },
     "execution_count": 1,
     "metadata": {},
     "output_type": "execute_result"
    },
    {
     "data": {
      "text/plain": "<Figure size 640x480 with 0 Axes>"
     },
     "metadata": {},
     "output_type": "display_data"
    }
   ],
   "source": [
    "import numpy as np\n",
    "import matplotlib.pyplot as plt\n",
    "import matplotlib.style\n",
    "import matplotlib as mpl\n",
    "import autograd\n",
    "from task3module.task3module import *\n",
    "mpl.style.use('classic')\n",
    "plt.figure(figsize=(8, 6), dpi = 80)"
   ]
  },
  {
   "cell_type": "code",
   "execution_count": 2,
   "outputs": [],
   "source": [
    "%matplotlib inline"
   ],
   "metadata": {
    "collapsed": false,
    "pycharm": {
     "name": "#%%\n"
    }
   }
  },
  {
   "cell_type": "code",
   "execution_count": 3,
   "outputs": [],
   "source": [
    "np.random.seed(43)"
   ],
   "metadata": {
    "collapsed": false,
    "pycharm": {
     "name": "#%%\n"
    }
   }
  },
  {
   "cell_type": "code",
   "execution_count": 4,
   "outputs": [],
   "source": [
    "N = 101\n",
    "x = np.linspace(0, 1, N)\n",
    "alpha = 0.785\n",
    "beta = 0.31\n",
    "y = alpha*x + beta + np.random.normal(size = N)"
   ],
   "metadata": {
    "collapsed": false,
    "pycharm": {
     "name": "#%%\n"
    }
   }
  },
  {
   "cell_type": "code",
   "execution_count": 5,
   "outputs": [],
   "source": [
    "def cost_function(a, b):\n",
    "    y_pred = a*x+b\n",
    "    return squares(y_pred, y)\n",
    "\n",
    "def cost_function_v(theta):\n",
    "    return cost_function(theta[0], theta[1])\n",
    "\n",
    "def cost_function_grad(theta):\n",
    "    df1 = 2*np.sum(x*(theta[0]*x+theta[1]-y))\n",
    "    df2 = 2*np.sum(theta[0]*x+theta[1]-y)\n",
    "    return np.array([df1, df2], dtype=float)\n",
    "\n",
    "def cost_function_hess(theta):\n",
    "    df11 = 2*np.sum(np.square(x))\n",
    "    df12 = 2*np.sum(x)\n",
    "    df22 = 2*x.shape[0]\n",
    "    return np.array([[df11, df12], [df12, df22]], dtype=float)\n"
   ],
   "metadata": {
    "collapsed": false,
    "pycharm": {
     "name": "#%%\n"
    }
   }
  },
  {
   "cell_type": "code",
   "execution_count": 6,
   "outputs": [],
   "source": [
    "limits = np.array([[0, 1], [0, 1]], dtype=float)"
   ],
   "metadata": {
    "collapsed": false,
    "pycharm": {
     "name": "#%%\n"
    }
   }
  },
  {
   "cell_type": "code",
   "execution_count": 7,
   "outputs": [
    {
     "data": {
      "text/plain": "(array([0.68456203, 0.42617877]),\n 92.14858746546793,\n {'iterations': 2,\n  'funccalcs': 0,\n  'gradcalcs': 2,\n  'hesscalcs': 2,\n  'matrixinversions': 2},\n 0.15357504216757092)"
     },
     "execution_count": 7,
     "metadata": {},
     "output_type": "execute_result"
    }
   ],
   "source": [
    "newtons(cost_function_v, limits, np.array([0.1, 0.1]), funcgrad=cost_function_grad,\n",
    "        funchess=cost_function_hess, optpoint = np.array([alpha, beta]))"
   ],
   "metadata": {
    "collapsed": false,
    "pycharm": {
     "name": "#%%\n"
    }
   }
  },
  {
   "cell_type": "code",
   "execution_count": 10,
   "outputs": [
    {
     "data": {
      "text/plain": "(array([0.68455491, 0.42618259]),\n 92.14858746590969,\n {'iterations': 4,\n  'funccalcs': 0,\n  'gradcalcs': 4,\n  'hesscalcs': 4,\n  'matrixinversions': 4},\n 0.15358258467357028)"
     },
     "execution_count": 10,
     "metadata": {},
     "output_type": "execute_result"
    }
   ],
   "source": [
    "levenmarq(cost_function_v, limits, np.array([0.1, 0.1]), funcgrad=cost_function_grad,\n",
    "          funchess=cost_function_hess, regulpar=1., optpoint = np.array([alpha, beta]))\n"
   ],
   "metadata": {
    "collapsed": false,
    "pycharm": {
     "name": "#%%\n"
    }
   }
  },
  {
   "cell_type": "code",
   "execution_count": 11,
   "outputs": [
    {
     "data": {
      "text/plain": "(array([0.68456203, 0.42617877]),\n 92.14858746546791,\n {'iterations': 2,\n  'funccalcs': 46,\n  'gradcalcs': 2,\n  'hesscalcs': 2,\n  'matrixinversions': 42},\n 0.1535750423681571)"
     },
     "execution_count": 11,
     "metadata": {},
     "output_type": "execute_result"
    }
   ],
   "source": [
    "levenmarq(cost_function_v, limits, np.array([0.1, 0.1]), funcgrad=cost_function_grad,\n",
    "          funchess=cost_function_hess, regulpar=(0., 10.), optpoint = np.array([alpha, beta]))"
   ],
   "metadata": {
    "collapsed": false,
    "pycharm": {
     "name": "#%%\n"
    }
   }
  }
 ],
 "metadata": {
  "kernelspec": {
   "display_name": "Python 3",
   "language": "python",
   "name": "python3"
  },
  "language_info": {
   "codemirror_mode": {
    "name": "ipython",
    "version": 2
   },
   "file_extension": ".py",
   "mimetype": "text/x-python",
   "name": "python",
   "nbconvert_exporter": "python",
   "pygments_lexer": "ipython2",
   "version": "2.7.6"
  }
 },
 "nbformat": 4,
 "nbformat_minor": 0
}