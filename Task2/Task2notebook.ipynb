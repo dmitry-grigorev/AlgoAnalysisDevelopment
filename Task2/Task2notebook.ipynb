{
 "cells": [
  {
   "cell_type": "code",
   "execution_count": 1,
   "metadata": {
    "collapsed": true,
    "pycharm": {
     "name": "#%%\n"
    }
   },
   "outputs": [],
   "source": [
    "import numpy as np"
   ]
  },
  {
   "cell_type": "code",
   "execution_count": 2,
   "outputs": [],
   "source": [
    "phi = (1+np.sqrt(5))/2\n",
    "invphi = (-1+np.sqrt(5))/2\n",
    "invphi2 = (3-np.sqrt(5))/2\n",
    "\n",
    "def exhaustive_search(func, left = 0, right = 1, eps = 1e-3):\n",
    "    niters, fcalcs = 0, 0\n",
    "    grid = np.linspace(left, right, int(1/eps)+1)\n",
    "    xmin = left\n",
    "    fmin = func(left)\n",
    "    fcalcs += 1\n",
    "    for x in grid[1:]:\n",
    "        niters += 1\n",
    "        f = func(x)\n",
    "        fcalcs += 1\n",
    "        if f < fmin:\n",
    "            xmin = x\n",
    "            fmin = f\n",
    "    return xmin, fmin, niters, fcalcs\n",
    "\n",
    "def dichotomy_method(func, left = 0, right = 1, eps = 1e-3):\n",
    "    niters, fcalcs = 0, 0\n",
    "    while right - left > 2*eps:\n",
    "        niters+=1\n",
    "        m = (left+right)/2\n",
    "        a, b = m - eps/2, m + eps/2\n",
    "        if func(a) < func(b):\n",
    "            right = b\n",
    "        else:\n",
    "            left = a\n",
    "        fcalcs+=2\n",
    "    fcalcs+=1\n",
    "    xmin = (left+right)/2\n",
    "    return xmin, func(xmin), niters, fcalcs\n",
    "\n",
    "def goldenratio_method(func, left = 0, right = 1, eps = 1e-3):\n",
    "    niters, fcalcs = 0, 0\n",
    "    h = right - left\n",
    "    a = right - h*invphi\n",
    "    b = left + h*invphi\n",
    "    fa = func(a)\n",
    "    fb = func(b)\n",
    "    fcalcs+=2\n",
    "    while h > eps:\n",
    "        niters+=1\n",
    "        h = invphi * h\n",
    "        if fa < fb:\n",
    "            right = b\n",
    "            b = a\n",
    "            fb = fa\n",
    "            a = right - h*invphi\n",
    "            fa = func(a)\n",
    "        else:\n",
    "            left = a\n",
    "            a = b\n",
    "            fa = fb\n",
    "            b = left + h*invphi\n",
    "            fb = func(b)\n",
    "        fcalcs+=1\n",
    "        h = right - left\n",
    "    xmin = (a+b)/2\n",
    "    fcalcs+=1\n",
    "    return xmin, func(xmin), niters, fcalcs\n",
    "\n",
    "def exhaustive_search2d(func, leftx = 0, rightx = 1, lefty = 0, righty = 1, eps = 1e-3):\n",
    "    gridx = np.linspace(leftx, rightx, int(1/eps)+1)\n",
    "    gridy = np.linspace(lefty, righty, int(1/eps)+1)\n",
    "    xmin, ymin = leftx, lefty\n",
    "    fmin = func(leftx, lefty)\n",
    "    for x, y in zip(gridx, gridy):\n",
    "        f = func(x, y)\n",
    "        if f < fmin:\n",
    "            xmin, ymin = x, y\n",
    "            fmin = f\n",
    "    return xmin, ymin, fmin"
   ],
   "metadata": {
    "collapsed": false,
    "pycharm": {
     "name": "#%%\n"
    }
   }
  },
  {
   "cell_type": "code",
   "execution_count": 3,
   "outputs": [],
   "source": [
    "f1 = lambda x: x**3\n",
    "f2 = lambda x: np.abs(x - 0.2)\n",
    "f3 = lambda x: x * np.sin(1/x)"
   ],
   "metadata": {
    "collapsed": false,
    "pycharm": {
     "name": "#%%\n"
    }
   }
  },
  {
   "cell_type": "code",
   "execution_count": 4,
   "outputs": [
    {
     "data": {
      "text/plain": "((0, 0, 1000, 1001),\n (0.0009877929687499998, 9.638241220964113e-10, 10, 21),\n (0.00036656871792872, 4.9256800857735554e-11, 15, 18))"
     },
     "execution_count": 4,
     "metadata": {},
     "output_type": "execute_result"
    }
   ],
   "source": [
    "exhaustive_search(f1), dichotomy_method(f1), goldenratio_method(f1)"
   ],
   "metadata": {
    "collapsed": false,
    "pycharm": {
     "name": "#%%\n"
    }
   }
  },
  {
   "cell_type": "code",
   "execution_count": 5,
   "outputs": [
    {
     "data": {
      "text/plain": "((0.2, 0.0, 1000, 1001),\n (0.20000732421875, 7.324218749993339e-06, 10, 21),\n (0.20007331374358567, 7.331374358565679e-05, 15, 18))"
     },
     "execution_count": 5,
     "metadata": {},
     "output_type": "execute_result"
    }
   ],
   "source": [
    "exhaustive_search(f2), dichotomy_method(f2), goldenratio_method(f2)"
   ],
   "metadata": {
    "collapsed": false,
    "pycharm": {
     "name": "#%%\n"
    }
   }
  },
  {
   "cell_type": "code",
   "execution_count": 6,
   "outputs": [
    {
     "data": {
      "text/plain": "(0.5, 0.5, 0.012799999999999995)"
     },
     "execution_count": 6,
     "metadata": {},
     "output_type": "execute_result"
    }
   ],
   "source": [
    "g = lambda x, y: (x-0.42)**2 + (y-0.58)**2\n",
    "exhaustive_search2d(g)"
   ],
   "metadata": {
    "collapsed": false,
    "pycharm": {
     "name": "#%%\n"
    }
   }
  }
 ],
 "metadata": {
  "kernelspec": {
   "display_name": "Python 3",
   "language": "python",
   "name": "python3"
  },
  "language_info": {
   "codemirror_mode": {
    "name": "ipython",
    "version": 2
   },
   "file_extension": ".py",
   "mimetype": "text/x-python",
   "name": "python",
   "nbconvert_exporter": "python",
   "pygments_lexer": "ipython2",
   "version": "2.7.6"
  }
 },
 "nbformat": 4,
 "nbformat_minor": 0
}