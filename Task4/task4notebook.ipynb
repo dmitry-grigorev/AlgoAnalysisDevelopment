{
 "cells": [
  {
   "cell_type": "code",
   "execution_count": 1,
   "metadata": {
    "collapsed": true,
    "pycharm": {
     "name": "#%%\n"
    }
   },
   "outputs": [
    {
     "data": {
      "text/plain": "<Figure size 640x480 with 0 Axes>"
     },
     "execution_count": 1,
     "metadata": {},
     "output_type": "execute_result"
    },
    {
     "data": {
      "text/plain": "<Figure size 640x480 with 0 Axes>"
     },
     "metadata": {},
     "output_type": "display_data"
    }
   ],
   "source": [
    "import numpy as np\n",
    "import matplotlib.pyplot as plt\n",
    "import matplotlib.style\n",
    "import matplotlib as mpl\n",
    "from task4module.task4module import *\n",
    "mpl.style.use('classic')\n",
    "plt.figure(figsize=(8, 6), dpi = 80)"
   ]
  },
  {
   "cell_type": "code",
   "execution_count": 2,
   "outputs": [],
   "source": [
    "np.random.seed(42)"
   ],
   "metadata": {
    "collapsed": false,
    "pycharm": {
     "name": "#%%\n"
    }
   }
  },
  {
   "cell_type": "code",
   "execution_count": 9,
   "outputs": [],
   "source": [
    "def difevol(func, dim, m, K=0.8, F=0.8, C = 0.9, maxiter=1000):\n",
    "    currpopulation = np.random.rand(dim, m)*6-3\n",
    "    mutants, S, U = np.zeros(shape = (dim, m)), np.zeros(shape = (dim, m)), np.zeros(shape = (dim, m))\n",
    "    J = np.linspace(0, dim-1, dim).repeat(m).reshape(dim, m)\n",
    "    i = 0\n",
    "    while i < maxiter:\n",
    "        i+=1\n",
    "\n",
    "        for j in range(m):\n",
    "            indices = np.random.choice(m-1, size = 5, replace =False )\n",
    "            indices += (indices >= j)\n",
    "            mutants[:,j] = currpopulation[:, indices[0]]+\\\n",
    "                    K*(currpopulation[:, indices[1]] - currpopulation[:, indices[2]])+\\\n",
    "                    F*(currpopulation[:, indices[3]] - currpopulation[:, indices[4]])\n",
    "            S[:, j] = np.random.permutation(dim)\n",
    "\n",
    "        R = np.random.rand(dim, m)\n",
    "        mask1 = (R <= C) | (J != S)\n",
    "        mask2 = (R > C) & (J == S)\n",
    "        U[mask1], U[mask2] = mutants[mask1], currpopulation[mask2]\n",
    "        mask3 = np.apply_along_axis(func, 0, currpopulation) >= np.apply_along_axis(func, 0, U)\n",
    "        mask3 = mask3.repeat(dim).reshape(dim, m, order = \"F\")\n",
    "        currpopulation[mask3] = U[mask3]\n",
    "\n",
    "    return currpopulation, np.apply_along_axis(func, 0, currpopulation)"
   ],
   "metadata": {
    "collapsed": false,
    "pycharm": {
     "name": "#%%\n"
    }
   }
  },
  {
   "cell_type": "code",
   "execution_count": 7,
   "outputs": [],
   "source": [
    "f = lambda x: np.sum(np.square(x))"
   ],
   "metadata": {
    "collapsed": false,
    "pycharm": {
     "name": "#%%\n"
    }
   }
  },
  {
   "cell_type": "code",
   "execution_count": 10,
   "outputs": [
    {
     "data": {
      "text/plain": "(array([[ 3.92889978e-30,  6.72293574e-31, -1.34814695e-30,\n         -3.36689430e-31,  7.53221576e-31, -1.41092135e-30,\n          5.74752674e-31, -1.70834803e-30, -6.53458148e-30,\n         -4.55513908e-30],\n        [-1.28528726e-31,  2.97876536e-30,  2.73232545e-30,\n          3.04170023e-31,  1.89921963e-30, -1.11843626e-30,\n          4.45182536e-30, -1.80153260e-30, -1.49019121e-30,\n         -4.81972039e-31],\n        [-5.80519357e-33,  9.08600908e-31,  1.12781956e-30,\n          1.86442871e-30,  4.96582270e-31,  7.51601903e-31,\n         -3.72904773e-31, -1.97961696e-30, -3.21638713e-30,\n         -5.44950653e-30]]),\n array([1.54528068e-59, 1.01505773e-59, 1.05550795e-59, 3.68197358e-60,\n        4.42097189e-60, 3.80650415e-60, 2.02881476e-59, 1.00828560e-59,\n        5.52665712e-59, 5.06787105e-59]))"
     },
     "execution_count": 10,
     "metadata": {},
     "output_type": "execute_result"
    }
   ],
   "source": [
    "difevol(f, 3, 10)"
   ],
   "metadata": {
    "collapsed": false,
    "pycharm": {
     "name": "#%%\n"
    }
   }
  },
  {
   "cell_type": "code",
   "execution_count": null,
   "outputs": [],
   "source": [],
   "metadata": {
    "collapsed": false,
    "pycharm": {
     "name": "#%%\n"
    }
   }
  },
  {
   "cell_type": "code",
   "execution_count": null,
   "outputs": [],
   "source": [],
   "metadata": {
    "collapsed": false,
    "pycharm": {
     "name": "#%%\n"
    }
   }
  }
 ],
 "metadata": {
  "kernelspec": {
   "display_name": "Python 3",
   "language": "python",
   "name": "python3"
  },
  "language_info": {
   "codemirror_mode": {
    "name": "ipython",
    "version": 2
   },
   "file_extension": ".py",
   "mimetype": "text/x-python",
   "name": "python",
   "nbconvert_exporter": "python",
   "pygments_lexer": "ipython2",
   "version": "2.7.6"
  }
 },
 "nbformat": 4,
 "nbformat_minor": 0
}